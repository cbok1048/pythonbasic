{
  "nbformat": 4,
  "nbformat_minor": 0,
  "metadata": {
    "colab": {
      "name": "friday Quiz 20210226.ipynb",
      "provenance": [],
      "authorship_tag": "ABX9TyPbQGuGzNplTf3mkkEj8f++",
      "include_colab_link": true
    },
    "kernelspec": {
      "name": "python3",
      "display_name": "Python 3"
    }
  },
  "cells": [
    {
      "cell_type": "markdown",
      "metadata": {
        "id": "view-in-github",
        "colab_type": "text"
      },
      "source": [
        "<a href=\"https://colab.research.google.com/github/cbok1048/pythonbasic/blob/main/friday_Quiz_20210226.ipynb\" target=\"_parent\"><img src=\"https://colab.research.google.com/assets/colab-badge.svg\" alt=\"Open In Colab\"/></a>"
      ]
    },
    {
      "cell_type": "code",
      "metadata": {
        "colab": {
          "base_uri": "https://localhost:8080/",
          "height": 190
        },
        "id": "ksmFeUYY3Xi9",
        "outputId": "4238aeb0-3175-46d3-f019-1f84858d5f2a"
      },
      "source": [
        "a = map(int,input(\"이름 :\").split)"
      ],
      "execution_count": null,
      "outputs": [
        {
          "output_type": "stream",
          "text": [
            "이름 :저 넓은 세상을 네 눈앞에\n"
          ],
          "name": "stdout"
        },
        {
          "output_type": "error",
          "ename": "TypeError",
          "evalue": "ignored",
          "traceback": [
            "\u001b[0;31m---------------------------------------------------------------------------\u001b[0m",
            "\u001b[0;31mTypeError\u001b[0m                                 Traceback (most recent call last)",
            "\u001b[0;32m<ipython-input-62-a9c884788506>\u001b[0m in \u001b[0;36m<module>\u001b[0;34m()\u001b[0m\n\u001b[0;32m----> 1\u001b[0;31m \u001b[0ma\u001b[0m \u001b[0;34m=\u001b[0m \u001b[0mmap\u001b[0m\u001b[0;34m(\u001b[0m\u001b[0mint\u001b[0m\u001b[0;34m,\u001b[0m\u001b[0minput\u001b[0m\u001b[0;34m(\u001b[0m\u001b[0;34m\"이름 :\"\u001b[0m\u001b[0;34m)\u001b[0m\u001b[0;34m.\u001b[0m\u001b[0msplit\u001b[0m\u001b[0;34m)\u001b[0m\u001b[0;34m\u001b[0m\u001b[0;34m\u001b[0m\u001b[0m\n\u001b[0m",
            "\u001b[0;31mTypeError\u001b[0m: 'builtin_function_or_method' object is not iterable"
          ]
        }
      ]
    },
    {
      "cell_type": "code",
      "metadata": {
        "colab": {
          "base_uri": "https://localhost:8080/"
        },
        "id": "Pg1h9csZ3hjF",
        "outputId": "6cb6b69f-c7af-49d5-a9a8-a82c4953b5bd"
      },
      "source": [
        "# 숫자로 받아서 입력 처리\r\n",
        "a = map(int,input().split())\r\n",
        "\r\n",
        "print(a)"
      ],
      "execution_count": null,
      "outputs": [
        {
          "output_type": "stream",
          "text": [
            "70 100\n",
            "<map object at 0x7f761a8a4d50>\n"
          ],
          "name": "stdout"
        }
      ]
    },
    {
      "cell_type": "code",
      "metadata": {
        "id": "ht_7nn6h3jcb"
      },
      "source": [
        "a = input(\"이름 :\").split())\r\n",
        "x = map(int,input(\"점수 :\").split())\r\n",
        "\r\n",
        "print(dict(zip(a,x)))\r\n",
        "  "
      ],
      "execution_count": null,
      "outputs": []
    },
    {
      "cell_type": "code",
      "metadata": {
        "colab": {
          "base_uri": "https://localhost:8080/"
        },
        "id": "I4qYfTPj5E4y",
        "outputId": "d5733005-8f15-465a-cb33-fc3b37052322"
      },
      "source": [
        "key = input().split()\r\n",
        "value = map(int, input().split())\r\n",
        "\r\n",
        "print(dict(zip(key,value)))"
      ],
      "execution_count": null,
      "outputs": [
        {
          "output_type": "stream",
          "text": [
            "Yujin Hyewon\n",
            "70 100\n",
            "{'Yujin': 70, 'Hyewon': 100}\n"
          ],
          "name": "stdout"
        }
      ]
    },
    {
      "cell_type": "code",
      "metadata": {
        "colab": {
          "base_uri": "https://localhost:8080/"
        },
        "id": "xUv55hGT5xGy",
        "outputId": "38ab5b27-2ce5-4c33-853b-5ce79f1da000"
      },
      "source": [
        "# Quiz 28 2 gram\r\n",
        "x = input()  #python   6글자\r\n",
        "for i in range(len(x)-1):  #렌함수에 6글자 넣기\r\n",
        "  print(x[i] + x[i+1])\r\n",
        "\r\n"
      ],
      "execution_count": null,
      "outputs": [
        {
          "output_type": "stream",
          "text": [
            "python\n",
            "py\n",
            "yt\n",
            "th\n",
            "ho\n",
            "on\n"
          ],
          "name": "stdout"
        }
      ]
    },
    {
      "cell_type": "code",
      "metadata": {
        "colab": {
          "base_uri": "https://localhost:8080/",
          "height": 262
        },
        "id": "vVdNH36YBfk6",
        "outputId": "da95c064-7e0b-45bc-e82b-edbb5a14ba74"
      },
      "source": [
        "# 대문자만 지나가시오\r\n",
        "\r\n",
        "x = input()\r\n",
        "i = [A , B, C, D, E, F, G, H, I ,J ,K ,L ,M ,N ,O ,P ,Q ,R ,S ,T,U,V,W,Y,Z]\r\n",
        "if i not in x:\r\n",
        "  print(\"no\")\r\n",
        "elif i in x:\r\n",
        "  print(\"yes\")     #내가 생각했던풀이\r\n",
        "\r\n"
      ],
      "execution_count": null,
      "outputs": [
        {
          "output_type": "stream",
          "text": [
            "python\n"
          ],
          "name": "stdout"
        },
        {
          "output_type": "error",
          "ename": "NameError",
          "evalue": "ignored",
          "traceback": [
            "\u001b[0;31m---------------------------------------------------------------------------\u001b[0m",
            "\u001b[0;31mNameError\u001b[0m                                 Traceback (most recent call last)",
            "\u001b[0;32m<ipython-input-30-c86b133092f6>\u001b[0m in \u001b[0;36m<module>\u001b[0;34m()\u001b[0m\n\u001b[1;32m      2\u001b[0m \u001b[0;34m\u001b[0m\u001b[0m\n\u001b[1;32m      3\u001b[0m \u001b[0mx\u001b[0m \u001b[0;34m=\u001b[0m \u001b[0minput\u001b[0m\u001b[0;34m(\u001b[0m\u001b[0;34m)\u001b[0m\u001b[0;34m\u001b[0m\u001b[0;34m\u001b[0m\u001b[0m\n\u001b[0;32m----> 4\u001b[0;31m \u001b[0mi\u001b[0m \u001b[0;34m=\u001b[0m \u001b[0;34m[\u001b[0m\u001b[0mA\u001b[0m \u001b[0;34m,\u001b[0m \u001b[0mB\u001b[0m\u001b[0;34m,\u001b[0m \u001b[0mC\u001b[0m\u001b[0;34m,\u001b[0m \u001b[0mD\u001b[0m\u001b[0;34m,\u001b[0m \u001b[0mE\u001b[0m\u001b[0;34m,\u001b[0m \u001b[0mF\u001b[0m\u001b[0;34m,\u001b[0m \u001b[0mG\u001b[0m\u001b[0;34m,\u001b[0m \u001b[0mH\u001b[0m\u001b[0;34m,\u001b[0m \u001b[0mI\u001b[0m \u001b[0;34m,\u001b[0m\u001b[0mJ\u001b[0m \u001b[0;34m,\u001b[0m\u001b[0mK\u001b[0m \u001b[0;34m,\u001b[0m\u001b[0mL\u001b[0m \u001b[0;34m,\u001b[0m\u001b[0mM\u001b[0m \u001b[0;34m,\u001b[0m\u001b[0mN\u001b[0m \u001b[0;34m,\u001b[0m\u001b[0mO\u001b[0m \u001b[0;34m,\u001b[0m\u001b[0mP\u001b[0m \u001b[0;34m,\u001b[0m\u001b[0mQ\u001b[0m \u001b[0;34m,\u001b[0m\u001b[0mR\u001b[0m \u001b[0;34m,\u001b[0m\u001b[0mS\u001b[0m \u001b[0;34m,\u001b[0m\u001b[0mT\u001b[0m\u001b[0;34m,\u001b[0m\u001b[0mU\u001b[0m\u001b[0;34m,\u001b[0m\u001b[0mV\u001b[0m\u001b[0;34m,\u001b[0m\u001b[0mW\u001b[0m\u001b[0;34m,\u001b[0m\u001b[0mY\u001b[0m\u001b[0;34m,\u001b[0m\u001b[0mZ\u001b[0m\u001b[0;34m]\u001b[0m\u001b[0;34m\u001b[0m\u001b[0;34m\u001b[0m\u001b[0m\n\u001b[0m\u001b[1;32m      5\u001b[0m \u001b[0;32mif\u001b[0m \u001b[0mi\u001b[0m \u001b[0;32mnot\u001b[0m \u001b[0;32min\u001b[0m \u001b[0mx\u001b[0m\u001b[0;34m:\u001b[0m\u001b[0;34m\u001b[0m\u001b[0;34m\u001b[0m\u001b[0m\n\u001b[1;32m      6\u001b[0m   \u001b[0mprint\u001b[0m\u001b[0;34m(\u001b[0m\u001b[0;34m\"no\"\u001b[0m\u001b[0;34m)\u001b[0m\u001b[0;34m\u001b[0m\u001b[0;34m\u001b[0m\u001b[0m\n",
            "\u001b[0;31mNameError\u001b[0m: name 'A' is not defined"
          ]
        }
      ]
    },
    {
      "cell_type": "code",
      "metadata": {
        "id": "TVEdWzkrDpyp"
      },
      "source": [
        "# 대문자 소문자 팁\r\n",
        "\r\n",
        "# ASCII 코드 65 = A ~ 90 =z \r\n",
        "\r\n",
        "\r\n",
        "# isupper   대문자 인지 확인\r\n",
        "# islower   소문자 확인\r\n",
        "\r\n",
        "\r\n"
      ],
      "execution_count": null,
      "outputs": []
    },
    {
      "cell_type": "code",
      "metadata": {
        "colab": {
          "base_uri": "https://localhost:8080/"
        },
        "id": "VMbJVBvNEN_y",
        "outputId": "267c448e-73b1-4ef0-b323-39ca49ee8649"
      },
      "source": [
        "x =input()\r\n",
        "\r\n",
        "if x.isupper():\r\n",
        "  print('yes')\r\n",
        "else:\r\n",
        "  print('no')\r\n"
      ],
      "execution_count": null,
      "outputs": [
        {
          "output_type": "stream",
          "text": [
            "python\n",
            "no\n"
          ],
          "name": "stdout"
        }
      ]
    },
    {
      "cell_type": "code",
      "metadata": {
        "colab": {
          "base_uri": "https://localhost:8080/"
        },
        "id": "4skAHPhXEVGo",
        "outputId": "e64febfa-6d66-4967-fabd-162d7945365a"
      },
      "source": [
        "print(x)"
      ],
      "execution_count": null,
      "outputs": [
        {
          "output_type": "stream",
          "text": [
            "(<class 'list'>, 'python')\n"
          ],
          "name": "stdout"
        }
      ]
    },
    {
      "cell_type": "code",
      "metadata": {
        "colab": {
          "base_uri": "https://localhost:8080/"
        },
        "id": "aV0kQA8FEYjZ",
        "outputId": "c4b21ff8-8d92-4921-c13e-95441f06c942"
      },
      "source": [
        "txt = input()\r\n",
        "\r\n",
        "if ord(txt) >= 65 and ord(txt) <= 90:\r\n",
        "  print('yes')\r\n",
        "else:\r\n",
        "  print('no')\r\n"
      ],
      "execution_count": null,
      "outputs": [
        {
          "output_type": "stream",
          "text": [
            "a\n",
            "no\n"
          ],
          "name": "stdout"
        }
      ]
    },
    {
      "cell_type": "code",
      "metadata": {
        "id": "XtNiezeKLtTQ"
      },
      "source": [
        "########################################\r\n",
        "## Quiz 30 문자열 속 문자 찾기\r\n",
        "########################################"
      ],
      "execution_count": null,
      "outputs": []
    },
    {
      "cell_type": "code",
      "metadata": {
        "colab": {
          "base_uri": "https://localhost:8080/",
          "height": 136
        },
        "id": "cHOwv-2ULzCd",
        "outputId": "4c13789d-bfb5-469a-fdd2-601c45235b66"
      },
      "source": [
        "txt =input()\r\n",
        "txt.find('apple')\r\n",
        "print(txt[txt.find('apple'):txt.rfind('apple'))"
      ],
      "execution_count": null,
      "outputs": [
        {
          "output_type": "error",
          "ename": "SyntaxError",
          "evalue": "ignored",
          "traceback": [
            "\u001b[0;36m  File \u001b[0;32m\"<ipython-input-46-0fde70fa6e31>\"\u001b[0;36m, line \u001b[0;32m3\u001b[0m\n\u001b[0;31m    print(txt[txt.find('apple'):txt.rfind('apple'))\u001b[0m\n\u001b[0m                                                  ^\u001b[0m\n\u001b[0;31mSyntaxError\u001b[0m\u001b[0;31m:\u001b[0m invalid syntax\n"
          ]
        }
      ]
    },
    {
      "cell_type": "code",
      "metadata": {
        "colab": {
          "base_uri": "https://localhost:8080/"
        },
        "id": "cb59KpMyNe_n",
        "outputId": "f924287c-eecd-4aa8-9fab-97e77c7870db"
      },
      "source": [
        "a = 'pineapple is yummy'\r\n",
        "a.find('apple')"
      ],
      "execution_count": null,
      "outputs": [
        {
          "output_type": "execute_result",
          "data": {
            "text/plain": [
              "4"
            ]
          },
          "metadata": {
            "tags": []
          },
          "execution_count": 54
        }
      ]
    },
    {
      "cell_type": "code",
      "metadata": {
        "colab": {
          "base_uri": "https://localhost:8080/",
          "height": 136
        },
        "id": "W-Jm70D1NlE7",
        "outputId": "d2e43b25-7fb5-40c0-d7f1-2b2722be9389"
      },
      "source": [
        "x[x[0]x.find(a):x.rfind(p)]"
      ],
      "execution_count": null,
      "outputs": [
        {
          "output_type": "error",
          "ename": "SyntaxError",
          "evalue": "ignored",
          "traceback": [
            "\u001b[0;36m  File \u001b[0;32m\"<ipython-input-49-5d38c43cc574>\"\u001b[0;36m, line \u001b[0;32m1\u001b[0m\n\u001b[0;31m    x(x.find(a):x.rfind(p))\u001b[0m\n\u001b[0m               ^\u001b[0m\n\u001b[0;31mSyntaxError\u001b[0m\u001b[0;31m:\u001b[0m invalid syntax\n"
          ]
        }
      ]
    },
    {
      "cell_type": "code",
      "metadata": {
        "colab": {
          "base_uri": "https://localhost:8080/"
        },
        "id": "6kNH3LhnN0aR",
        "outputId": "6bba7042-0e44-4d92-e2cd-e7177be3afc9"
      },
      "source": [
        "# 31 문자열 만들기 \r\n",
        "txt = input()\r\n",
        "a = list(txt.split())\r\n",
        "print(len(a))\r\n",
        "\r\n",
        "#내가한거\r\n",
        "\r\n",
        "txt =input().split(' ')\r\n",
        "\r\n",
        "print(len(txt))"
      ],
      "execution_count": null,
      "outputs": [
        {
          "output_type": "stream",
          "text": [
            "         \n",
            "10\n"
          ],
          "name": "stdout"
        }
      ]
    },
    {
      "cell_type": "code",
      "metadata": {
        "colab": {
          "base_uri": "https://localhost:8080/",
          "height": 244
        },
        "id": "1dAIG24fcQ3z",
        "outputId": "6f732e22-820b-4d55-9853-8ccde7b1084b"
      },
      "source": [
        "a = map(int,input().split())\r\n",
        "print(a)\r\n",
        "a.reversed()"
      ],
      "execution_count": null,
      "outputs": [
        {
          "output_type": "stream",
          "text": [
            "1 2 3 4 5\n",
            "<map object at 0x7f761a9a5710>\n"
          ],
          "name": "stdout"
        },
        {
          "output_type": "error",
          "ename": "AttributeError",
          "evalue": "ignored",
          "traceback": [
            "\u001b[0;31m---------------------------------------------------------------------------\u001b[0m",
            "\u001b[0;31mAttributeError\u001b[0m                            Traceback (most recent call last)",
            "\u001b[0;32m<ipython-input-91-120246424bba>\u001b[0m in \u001b[0;36m<module>\u001b[0;34m()\u001b[0m\n\u001b[1;32m      1\u001b[0m \u001b[0ma\u001b[0m \u001b[0;34m=\u001b[0m \u001b[0mmap\u001b[0m\u001b[0;34m(\u001b[0m\u001b[0mint\u001b[0m\u001b[0;34m,\u001b[0m\u001b[0minput\u001b[0m\u001b[0;34m(\u001b[0m\u001b[0;34m)\u001b[0m\u001b[0;34m.\u001b[0m\u001b[0msplit\u001b[0m\u001b[0;34m(\u001b[0m\u001b[0;34m)\u001b[0m\u001b[0;34m)\u001b[0m\u001b[0;34m\u001b[0m\u001b[0;34m\u001b[0m\u001b[0m\n\u001b[1;32m      2\u001b[0m \u001b[0mprint\u001b[0m\u001b[0;34m(\u001b[0m\u001b[0ma\u001b[0m\u001b[0;34m)\u001b[0m\u001b[0;34m\u001b[0m\u001b[0;34m\u001b[0m\u001b[0m\n\u001b[0;32m----> 3\u001b[0;31m \u001b[0ma\u001b[0m\u001b[0;34m.\u001b[0m\u001b[0mreversed\u001b[0m\u001b[0;34m(\u001b[0m\u001b[0;34m)\u001b[0m\u001b[0;34m\u001b[0m\u001b[0;34m\u001b[0m\u001b[0m\n\u001b[0m",
            "\u001b[0;31mAttributeError\u001b[0m: 'map' object has no attribute 'reversed'"
          ]
        }
      ]
    },
    {
      "cell_type": "code",
      "metadata": {
        "colab": {
          "base_uri": "https://localhost:8080/"
        },
        "id": "wNDdbhlPQjjj",
        "outputId": "767a74f0-0882-4cef-e084-1655b02751d5"
      },
      "source": [
        "  # 거꾸로출력하기 \r\n",
        "\r\n",
        "txt =input().split()\r\n",
        "\r\n",
        "\r\n",
        "print(txt.reverse())"
      ],
      "execution_count": null,
      "outputs": [
        {
          "output_type": "stream",
          "text": [
            "2 6 8 7 8\n",
            "None\n"
          ],
          "name": "stdout"
        }
      ]
    },
    {
      "cell_type": "code",
      "metadata": {
        "colab": {
          "base_uri": "https://localhost:8080/"
        },
        "id": "4nz0so6pUwDO",
        "outputId": "4fd9f29a-7ad5-44a3-e7be-2bca80ba4402"
      },
      "source": [
        "for i in range(20,10,-1):\r\n",
        "  print(i)"
      ],
      "execution_count": null,
      "outputs": [
        {
          "output_type": "stream",
          "text": [
            "20\n",
            "19\n",
            "18\n",
            "17\n",
            "16\n",
            "15\n",
            "14\n",
            "13\n",
            "12\n",
            "11\n"
          ],
          "name": "stdout"
        }
      ]
    },
    {
      "cell_type": "code",
      "metadata": {
        "colab": {
          "base_uri": "https://localhost:8080/"
        },
        "id": "KeGfwhEZZqQ4",
        "outputId": "a947a0af-fc2f-4ca1-9836-a5863e70df0b"
      },
      "source": [
        "# 33 거꾸로 출력하기\r\n",
        "txt = input()\r\n",
        "txt2 = txt.split()\r\n",
        "txt3 = [int(i) for i in txt2]\r\n",
        "print(txt3)\r\n"
      ],
      "execution_count": null,
      "outputs": [
        {
          "output_type": "stream",
          "text": [
            "1 2 3 4 5\n",
            "[1, 2, 3, 4, 5]\n"
          ],
          "name": "stdout"
        }
      ]
    },
    {
      "cell_type": "code",
      "metadata": {
        "colab": {
          "base_uri": "https://localhost:8080/",
          "height": 262
        },
        "id": "yyRLgblobMCN",
        "outputId": "8efedb55-824a-419a-d360-7dff8b832a78"
      },
      "source": [
        "#34 sort 구현하기\r\n",
        "# 내가한거\r\n",
        "high = input().split()\r\n",
        "i = int(high)\r\n",
        "\r\n",
        "if i == sorted(i):\r\n",
        "  print(\"YES\")\r\n",
        "else:\r\n",
        "  print(\"NO\")\r\n",
        "\r\n",
        "# 선생님\r\n",
        "# sorted & sort\r\n",
        "\r\n",
        "# list = [1, 3, 2]\r\n",
        "# print(list.sort())\r\n",
        "# = None  ??\r\n",
        "# print(list)\r\n",
        "# = [1, 2, 3] ??\r\n",
        "\r\n",
        "# list = [1, 3, 2]\r\n",
        "# print(sorted(list))\r\n",
        "# = [1, 2, 3]\r\n",
        "\r\n",
        "# print(list) = [1, 3, 2]\r\n",
        "\r\n",
        "#<list>.sort() 를 사용하면 원본 리스트 자체의 순서를 변화 시킨다\r\n",
        "# sorted(list) 를 사용하면 정렬된 새로운 리스트를 반환 받는다\r\n",
        "# list.sort()는 새로운 복사본을 만들지 않는다"
      ],
      "execution_count": null,
      "outputs": [
        {
          "output_type": "stream",
          "text": [
            " 1 2 80 5 6\n"
          ],
          "name": "stdout"
        },
        {
          "output_type": "error",
          "ename": "TypeError",
          "evalue": "ignored",
          "traceback": [
            "\u001b[0;31m---------------------------------------------------------------------------\u001b[0m",
            "\u001b[0;31mTypeError\u001b[0m                                 Traceback (most recent call last)",
            "\u001b[0;32m<ipython-input-99-acca0522132f>\u001b[0m in \u001b[0;36m<module>\u001b[0;34m()\u001b[0m\n\u001b[1;32m      2\u001b[0m \u001b[0;31m# 내가한거\u001b[0m\u001b[0;34m\u001b[0m\u001b[0;34m\u001b[0m\u001b[0;34m\u001b[0m\u001b[0m\n\u001b[1;32m      3\u001b[0m \u001b[0mhigh\u001b[0m \u001b[0;34m=\u001b[0m \u001b[0minput\u001b[0m\u001b[0;34m(\u001b[0m\u001b[0;34m)\u001b[0m\u001b[0;34m.\u001b[0m\u001b[0msplit\u001b[0m\u001b[0;34m(\u001b[0m\u001b[0;34m)\u001b[0m\u001b[0;34m\u001b[0m\u001b[0;34m\u001b[0m\u001b[0m\n\u001b[0;32m----> 4\u001b[0;31m \u001b[0mi\u001b[0m \u001b[0;34m=\u001b[0m \u001b[0mint\u001b[0m\u001b[0;34m(\u001b[0m\u001b[0mhigh\u001b[0m\u001b[0;34m)\u001b[0m\u001b[0;34m\u001b[0m\u001b[0;34m\u001b[0m\u001b[0m\n\u001b[0m\u001b[1;32m      5\u001b[0m \u001b[0;34m\u001b[0m\u001b[0m\n\u001b[1;32m      6\u001b[0m \u001b[0;32mif\u001b[0m \u001b[0mi\u001b[0m \u001b[0;34m==\u001b[0m \u001b[0msorted\u001b[0m\u001b[0;34m(\u001b[0m\u001b[0mi\u001b[0m\u001b[0;34m)\u001b[0m\u001b[0;34m:\u001b[0m\u001b[0;34m\u001b[0m\u001b[0;34m\u001b[0m\u001b[0m\n",
            "\u001b[0;31mTypeError\u001b[0m: int() argument must be a string, a bytes-like object or a number, not 'list'"
          ]
        }
      ]
    },
    {
      "cell_type": "code",
      "metadata": {
        "colab": {
          "base_uri": "https://localhost:8080/"
        },
        "id": "ZeXr4pI1daaO",
        "outputId": "6ffbfa94-99b1-49f9-ea89-7ee50ca601de"
      },
      "source": [
        "# 36 구구단 출력하기 \r\n",
        "gugu = input('숫자를 입력하세요 : ')\r\n",
        "gu = int(gugu)\r\n",
        "for i in range(1,10):\r\n",
        "  gugudan = gu * i\r\n",
        "  print(gugudan,end=' ')\r\n"
      ],
      "execution_count": null,
      "outputs": [
        {
          "output_type": "stream",
          "text": [
            "숫자를 입력하세요 : 2\n",
            "2 4 6 8 10 12 14 16 18 "
          ],
          "name": "stdout"
        }
      ]
    },
    {
      "cell_type": "markdown",
      "metadata": {
        "id": "v8DXsfY9ipcr"
      },
      "source": [
        ""
      ]
    },
    {
      "cell_type": "code",
      "metadata": {
        "colab": {
          "base_uri": "https://localhost:8080/"
        },
        "id": "ud-k5M7df5ff",
        "outputId": "8cdb2569-2178-4a9f-9c01-9d264c9c7aa1"
      },
      "source": [
        "## 37 count 사용하기\r\n",
        "\r\n",
        "#기본  : 변수.count()\r\n",
        "\r\n",
        "# a = 'oyyy'\r\n",
        "#a.count(y)\r\n",
        "\r\n",
        "# b= 'ox o x oxoxox'\r\n",
        "#  b.count('ox')\r\n",
        "# a = [1, 1, 1, 2, 3 ]\r\n",
        "# a.count(1)\r\n",
        "# = 3\r\n",
        "\r\n",
        "\r\n",
        "a = input().split()\r\n",
        "b = list(set(a))\r\n",
        "\r\n",
        "max = 0 \r\n",
        "\r\n",
        "for i in range(len(b)):\r\n",
        "  if a.count(b[i]) > a.count(b[max]):\r\n",
        "    max = i\r\n",
        "print(\"%s(이)가 총 %d 표로 반장이 되었습니다.\"%(b[max], a.count(b[max])))"
      ],
      "execution_count": null,
      "outputs": [
        {
          "output_type": "stream",
          "text": [
            "원영 원영 은비 은비 은비 은비 채연 채연\n",
            "은비(이)가 총 4 표로 반장이 되었습니다.\n"
          ],
          "name": "stdout"
        }
      ]
    },
    {
      "cell_type": "code",
      "metadata": {
        "colab": {
          "base_uri": "https://localhost:8080/"
        },
        "id": "4j26nq9g4cjY",
        "outputId": "63f5b7e3-8edb-4542-e3bc-b8a795ecdff5"
      },
      "source": [
        "## 38 문장이입력되면 모든 q를 e로 바뀌는 프로그램\r\n",
        "\r\n",
        "\r\n",
        "a = input()\r\n",
        "\r\n",
        "print(a.replace('q','e'))"
      ],
      "execution_count": null,
      "outputs": [
        {
          "output_type": "stream",
          "text": [
            "quttwe\n",
            "euttwe\n"
          ],
          "name": "stdout"
        }
      ]
    },
    {
      "cell_type": "code",
      "metadata": {
        "id": "fqEUvJlE-ij3"
      },
      "source": [
        "## 41 소수 판별\r\n",
        "\r\n",
        "a= int(input())\r\n",
        "\r\n",
        "if a * 1 == a and 1 % a == 1:\r\n",
        "  print('YES')\r\n",
        "else:\r\n",
        "  print('NO')\r\n"
      ],
      "execution_count": null,
      "outputs": []
    },
    {
      "cell_type": "code",
      "metadata": {
        "colab": {
          "base_uri": "https://localhost:8080/"
        },
        "id": "pbr-j9uNKkQK",
        "outputId": "1910c7a0-c9f5-476d-d423-47b1ccc632e3"
      },
      "source": [
        "a = int(input())\r\n",
        "re = 0\r\n",
        "for i in range(1,a+1):\r\n",
        "  if a % i == 0: # 입력받은수를 그수 앞에 모든수로 나눈 나머지 값이 0이면\r\n",
        "    re += 1      #rerkqt\r\n",
        "    \r\n",
        "if re == 2:    \r\n",
        "  print(\"yes\")\r\n",
        "else :\r\n",
        "  print(\"No\")\r\n",
        "\r\n"
      ],
      "execution_count": null,
      "outputs": [
        {
          "output_type": "stream",
          "text": [
            "11\n",
            "yes\n"
          ],
          "name": "stdout"
        }
      ]
    },
    {
      "cell_type": "code",
      "metadata": {
        "colab": {
          "base_uri": "https://localhost:8080/"
        },
        "id": "ACmz0WQlPZFj",
        "outputId": "56b84cb9-e9f4-41f0-c999-5c137cba6d91"
      },
      "source": [
        "print(sum(map(int, input())))\r\n"
      ],
      "execution_count": null,
      "outputs": [
        {
          "output_type": "stream",
          "text": [
            "1234\n",
            "10\n"
          ],
          "name": "stdout"
        }
      ]
    },
    {
      "cell_type": "code",
      "metadata": {
        "colab": {
          "base_uri": "https://localhost:8080/"
        },
        "id": "dmFX83gPQ1no",
        "outputId": "09a6a34e-7cb1-4c73-e4d3-b65b074598c6"
      },
      "source": [
        "sum = 0\r\n",
        "for i in input():\r\n",
        "  sum += int(i)\r\n",
        "print(sum)"
      ],
      "execution_count": null,
      "outputs": [
        {
          "output_type": "stream",
          "text": [
            "1234\n",
            "10\n"
          ],
          "name": "stdout"
        }
      ]
    },
    {
      "cell_type": "code",
      "metadata": {
        "colab": {
          "base_uri": "https://localhost:8080/",
          "height": 226
        },
        "id": "3TdfP3k6URaF",
        "outputId": "f89f5662-b3e7-4535-8c2b-cf0eb6301c7c"
      },
      "source": [
        "## 46번 str자료형의 응용 a ='1234567891011121314151617181920'\r\n",
        "내가한거\r\n",
        "for i in range(1,21):\r\n",
        "  print(i,end ='')\r\n",
        "print(sum(map(int,i)))"
      ],
      "execution_count": null,
      "outputs": [
        {
          "output_type": "stream",
          "text": [
            "1234567891011121314151617181920"
          ],
          "name": "stdout"
        },
        {
          "output_type": "error",
          "ename": "TypeError",
          "evalue": "ignored",
          "traceback": [
            "\u001b[0;31m---------------------------------------------------------------------------\u001b[0m",
            "\u001b[0;31mTypeError\u001b[0m                                 Traceback (most recent call last)",
            "\u001b[0;32m<ipython-input-16-ee8f4c061403>\u001b[0m in \u001b[0;36m<module>\u001b[0;34m()\u001b[0m\n\u001b[1;32m      2\u001b[0m \u001b[0;32mfor\u001b[0m \u001b[0mi\u001b[0m \u001b[0;32min\u001b[0m \u001b[0mrange\u001b[0m\u001b[0;34m(\u001b[0m\u001b[0;36m1\u001b[0m\u001b[0;34m,\u001b[0m\u001b[0;36m21\u001b[0m\u001b[0;34m)\u001b[0m\u001b[0;34m:\u001b[0m\u001b[0;34m\u001b[0m\u001b[0;34m\u001b[0m\u001b[0m\n\u001b[1;32m      3\u001b[0m   \u001b[0mprint\u001b[0m\u001b[0;34m(\u001b[0m\u001b[0mi\u001b[0m\u001b[0;34m,\u001b[0m\u001b[0mend\u001b[0m \u001b[0;34m=\u001b[0m\u001b[0;34m''\u001b[0m\u001b[0;34m)\u001b[0m\u001b[0;34m\u001b[0m\u001b[0;34m\u001b[0m\u001b[0m\n\u001b[0;32m----> 4\u001b[0;31m \u001b[0mprint\u001b[0m\u001b[0;34m(\u001b[0m\u001b[0msum\u001b[0m\u001b[0;34m(\u001b[0m\u001b[0mmap\u001b[0m\u001b[0;34m(\u001b[0m\u001b[0mint\u001b[0m\u001b[0;34m,\u001b[0m\u001b[0mi\u001b[0m\u001b[0;34m)\u001b[0m\u001b[0;34m)\u001b[0m\u001b[0;34m)\u001b[0m\u001b[0;34m\u001b[0m\u001b[0;34m\u001b[0m\u001b[0m\n\u001b[0m",
            "\u001b[0;31mTypeError\u001b[0m: 'int' object is not iterable"
          ]
        }
      ]
    },
    {
      "cell_type": "code",
      "metadata": {
        "colab": {
          "base_uri": "https://localhost:8080/"
        },
        "id": "jpHhH8lZVdce",
        "outputId": "26bf6bdc-ca87-4502-e283-0acf9d3f415b"
      },
      "source": [
        "print(range(1,21))"
      ],
      "execution_count": null,
      "outputs": [
        {
          "output_type": "stream",
          "text": [
            "range(1, 21)\n"
          ],
          "name": "stdout"
        }
      ]
    },
    {
      "cell_type": "code",
      "metadata": {
        "colab": {
          "base_uri": "https://localhost:8080/"
        },
        "id": "liygVVZrWHGC",
        "outputId": "44966090-2378-43e5-f9f4-a4349d1720c8"
      },
      "source": [
        "a = int(input())\r\n",
        "\r\n",
        "sum = 0\r\n",
        "for i in range(1,a+1):\r\n",
        "  for j in str(i):\r\n",
        "    sum += int(j)\r\n",
        "\r\n",
        "print(sum)\r\n"
      ],
      "execution_count": null,
      "outputs": [
        {
          "output_type": "stream",
          "text": [
            "80\n",
            "648\n"
          ],
          "name": "stdout"
        }
      ]
    },
    {
      "cell_type": "code",
      "metadata": {
        "id": "pjUs3Cb7aRlF"
      },
      "source": [
        ""
      ],
      "execution_count": null,
      "outputs": []
    }
  ]
}