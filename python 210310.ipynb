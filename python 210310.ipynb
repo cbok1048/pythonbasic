{
 "cells": [
  {
   "cell_type": "code",
   "execution_count": 5,
   "metadata": {},
   "outputs": [
    {
     "name": "stdout",
     "output_type": "stream",
     "text": [
      " * Serving Flask app \"__main__\" (lazy loading)\n",
      " * Environment: production\n",
      "   WARNING: This is a development server. Do not use it in a production deployment.\n",
      "   Use a production WSGI server instead.\n",
      " * Debug mode: off\n"
     ]
    },
    {
     "name": "stderr",
     "output_type": "stream",
     "text": [
      " * Running on http://127.0.0.1:5000/ (Press CTRL+C to quit)\n"
     ]
    }
   ],
   "source": [
    "from flask import Flask , session\n",
    "\n",
    "app = Flask(__name__)\n",
    "\n",
    "\n",
    "@app.route('/')\n",
    "def hello():\n",
    "    return 'Hello from the simple webapp.'\n",
    "\n",
    "def check_logged_in() -> bool:\n",
    "    if 'logged_in in' in session:\n",
    "        return True\n",
    "    return False\n",
    " \n",
    "@app.route('/page1')\n",
    "def page1():\n",
    "    if not check_logged_in():\n",
    "        return 'You are NOT logged in'\n",
    "    return 'This is page 1.'\n",
    "\n",
    "\n",
    "@app.route('/page2')\n",
    "def page2():\n",
    "    return 'This is page 2.'\n",
    "\n",
    "\n",
    "@app.route('/page3')\n",
    "def page3():\n",
    "    return 'This is page 3.'\n",
    "\n",
    "@app.route('/login')\n",
    "def do_login() -> str:\n",
    "    session['logged_in'] = True\n",
    "    return 'You are now logged in.'\n",
    "\n",
    "@app.route('/logout')\n",
    "def do_logout() -> str:\n",
    "    session.pop('logged_in')\n",
    "    return 'You are now logged out.'\n",
    "\n",
    "@app.route('/status')\n",
    "def check_status() -> str:\n",
    "    if 'logged_in' in session:\n",
    "        return 'You are currently logged in.'\n",
    "    return 'You are NOT logged in.'\n",
    "\n",
    "\n",
    "\n",
    "app.secret_key = 'YouWillNeverGuessMySecretKey'\n",
    "\n",
    "\n",
    "if __name__ == '__main__':\n",
    "    app.run()\n"
   ]
  },
  {
   "cell_type": "code",
   "execution_count": 10,
   "metadata": {},
   "outputs": [
    {
     "data": {
      "text/plain": [
       "2608396605360"
      ]
     },
     "execution_count": 10,
     "metadata": {},
     "output_type": "execute_result"
    }
   ],
   "source": [
    "msg = 'Hello from head First Python 2e'\n",
    "id(msg)"
   ]
  },
  {
   "cell_type": "code",
   "execution_count": 11,
   "metadata": {},
   "outputs": [
    {
     "data": {
      "text/plain": [
       "str"
      ]
     },
     "execution_count": 11,
     "metadata": {},
     "output_type": "execute_result"
    }
   ],
   "source": [
    "type(msg)"
   ]
  },
  {
   "cell_type": "code",
   "execution_count": 12,
   "metadata": {},
   "outputs": [
    {
     "data": {
      "text/plain": [
       "function"
      ]
     },
     "execution_count": 12,
     "metadata": {},
     "output_type": "execute_result"
    }
   ],
   "source": [
    "type(hello)"
   ]
  },
  {
   "cell_type": "code",
   "execution_count": 14,
   "metadata": {},
   "outputs": [],
   "source": [
    "def hello():\n",
    "    print(msg)"
   ]
  },
  {
   "cell_type": "code",
   "execution_count": 15,
   "metadata": {},
   "outputs": [
    {
     "data": {
      "text/plain": [
       "function"
      ]
     },
     "execution_count": 15,
     "metadata": {},
     "output_type": "execute_result"
    }
   ],
   "source": [
    "type(hello)"
   ]
  },
  {
   "cell_type": "code",
   "execution_count": 16,
   "metadata": {},
   "outputs": [
    {
     "name": "stdout",
     "output_type": "stream",
     "text": [
      "Hello from head First Python 2e\n"
     ]
    }
   ],
   "source": [
    "hello()"
   ]
  },
  {
   "cell_type": "code",
   "execution_count": 18,
   "metadata": {},
   "outputs": [],
   "source": [
    "def apply(func: object, value: object) -> object:\n",
    "    return func(value)"
   ]
  },
  {
   "cell_type": "code",
   "execution_count": 19,
   "metadata": {},
   "outputs": [
    {
     "name": "stdout",
     "output_type": "stream",
     "text": [
      "42\n"
     ]
    }
   ],
   "source": [
    "apply(print,42)"
   ]
  },
  {
   "cell_type": "code",
   "execution_count": 23,
   "metadata": {},
   "outputs": [],
   "source": [
    "def outer():\n",
    "    def inner():\n",
    "        print('This is inner.')\n",
    "    print('This is outer, returning inner.')\n",
    "    return inner"
   ]
  },
  {
   "cell_type": "code",
   "execution_count": 24,
   "metadata": {},
   "outputs": [
    {
     "name": "stdout",
     "output_type": "stream",
     "text": [
      "This is outer, returning inner.\n"
     ]
    }
   ],
   "source": [
    "i = outer()"
   ]
  },
  {
   "cell_type": "code",
   "execution_count": 26,
   "metadata": {},
   "outputs": [
    {
     "data": {
      "text/plain": [
       "function"
      ]
     },
     "execution_count": 26,
     "metadata": {},
     "output_type": "execute_result"
    }
   ],
   "source": [
    "type(i)"
   ]
  },
  {
   "cell_type": "code",
   "execution_count": 27,
   "metadata": {},
   "outputs": [
    {
     "name": "stdout",
     "output_type": "stream",
     "text": [
      "This is inner.\n"
     ]
    }
   ],
   "source": [
    "i()"
   ]
  },
  {
   "cell_type": "code",
   "execution_count": 57,
   "metadata": {},
   "outputs": [],
   "source": [
    "def myfunc(*args):\n",
    "    for a in args:\n",
    "        print(a, end=' ')\n",
    "    if args:\n",
    "        print()\n",
    "\n",
    "def myfunc2(**kwargs):\n",
    "    for k,v in kwargs.items():\n",
    "        print(k, v, sep='->', end= ' ')\n",
    "    if kwargs:\n",
    "        print()\n",
    "        \n",
    "def myfunc3(*args , **kwargs):\n",
    "    if args:\n",
    "        for a in args:\n",
    "            print()\n",
    "        print()\n",
    "    if kwargs:\n",
    "        for k , v in kwargs.items () :\n",
    "            print(k , v , sep = '->', end=' ')\n",
    "            print()"
   ]
  },
  {
   "cell_type": "code",
   "execution_count": 58,
   "metadata": {},
   "outputs": [
    {
     "name": "stdout",
     "output_type": "stream",
     "text": [
      "10 20 30 40 50 \n"
     ]
    }
   ],
   "source": [
    "myfunc(10,20,30,40,50)"
   ]
  },
  {
   "cell_type": "code",
   "execution_count": 59,
   "metadata": {},
   "outputs": [],
   "source": [
    "myfunc()"
   ]
  },
  {
   "cell_type": "code",
   "execution_count": 60,
   "metadata": {},
   "outputs": [],
   "source": [
    "value = [1, 2, 3, 5,7, 11]"
   ]
  },
  {
   "cell_type": "code",
   "execution_count": 61,
   "metadata": {},
   "outputs": [
    {
     "name": "stdout",
     "output_type": "stream",
     "text": [
      "[1, 2, 3, 5, 7, 11] \n"
     ]
    }
   ],
   "source": [
    "myfunc(value)"
   ]
  },
  {
   "cell_type": "code",
   "execution_count": 62,
   "metadata": {},
   "outputs": [
    {
     "name": "stdout",
     "output_type": "stream",
     "text": [
      "1 2 3 5 7 11 \n"
     ]
    }
   ],
   "source": [
    "myfunc(*value)"
   ]
  },
  {
   "cell_type": "code",
   "execution_count": 63,
   "metadata": {},
   "outputs": [
    {
     "name": "stdout",
     "output_type": "stream",
     "text": [
      "a->10 b->20 \n"
     ]
    }
   ],
   "source": [
    "myfunc2(a=10 , b=20)"
   ]
  },
  {
   "cell_type": "code",
   "execution_count": 64,
   "metadata": {},
   "outputs": [],
   "source": [
    "myfunc2()"
   ]
  },
  {
   "cell_type": "code",
   "execution_count": 65,
   "metadata": {},
   "outputs": [
    {
     "name": "stdout",
     "output_type": "stream",
     "text": [
      "a->10 b->20 c->30 d->40 e->50 f->60 \n"
     ]
    }
   ],
   "source": [
    "myfunc2(a = 10 , b = 20, c = 30 , d = 40 , e= 50 , f = 60)"
   ]
  },
  {
   "cell_type": "code",
   "execution_count": 67,
   "metadata": {},
   "outputs": [
    {
     "name": "stdout",
     "output_type": "stream",
     "text": [
      "\n",
      "\n",
      "\n",
      "\n"
     ]
    }
   ],
   "source": [
    "myfunc3(1,2,3)"
   ]
  },
  {
   "cell_type": "code",
   "execution_count": null,
   "metadata": {},
   "outputs": [],
   "source": []
  }
 ],
 "metadata": {
  "kernelspec": {
   "display_name": "Python 3",
   "language": "python",
   "name": "python3"
  },
  "language_info": {
   "codemirror_mode": {
    "name": "ipython",
    "version": 3
   },
   "file_extension": ".py",
   "mimetype": "text/x-python",
   "name": "python",
   "nbconvert_exporter": "python",
   "pygments_lexer": "ipython3",
   "version": "3.8.5"
  }
 },
 "nbformat": 4,
 "nbformat_minor": 4
}
