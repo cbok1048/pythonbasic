{
 "cells": [
  {
   "cell_type": "code",
   "execution_count": null,
   "metadata": {},
   "outputs": [
    {
     "name": "stdout",
     "output_type": "stream",
     "text": [
      " * Serving Flask app \"__main__\" (lazy loading)\n",
      " * Environment: production\n",
      "   WARNING: This is a development server. Do not use it in a production deployment.\n",
      "   Use a production WSGI server instead.\n",
      " * Debug mode: off\n"
     ]
    },
    {
     "name": "stderr",
     "output_type": "stream",
     "text": [
      " * Running on http://127.0.0.1:5000/ (Press CTRL+C to quit)\n",
      "127.0.0.1 - - [09/Mar/2021 11:43:34] \"\u001b[33mGET / HTTP/1.1\u001b[0m\" 404 -\n",
      "127.0.0.1 - - [09/Mar/2021 11:43:34] \"\u001b[33mGET /favicon.ico HTTP/1.1\u001b[0m\" 404 -\n",
      "127.0.0.1 - - [09/Mar/2021 11:43:41] \"\u001b[33mGET / HTTP/1.1\u001b[0m\" 404 -\n",
      "127.0.0.1 - - [09/Mar/2021 11:43:52] \"\u001b[37mGET /setuser/Alice HTTP/1.1\u001b[0m\" 200 -\n",
      "127.0.0.1 - - [09/Mar/2021 11:44:19] \"\u001b[37mGET /setuser/Alice HTTP/1.1\u001b[0m\" 200 -\n",
      "127.0.0.1 - - [09/Mar/2021 12:01:24] \"\u001b[33mGET /setuser HTTP/1.1\u001b[0m\" 404 -\n",
      "127.0.0.1 - - [09/Mar/2021 12:01:40] \"\u001b[37mGET /setuser/Alice HTTP/1.1\u001b[0m\" 200 -\n",
      "127.0.0.1 - - [09/Mar/2021 12:03:13] \"\u001b[37mGET /setuser/ㅠㅐㅠ HTTP/1.1\u001b[0m\" 200 -\n",
      "127.0.0.1 - - [09/Mar/2021 12:03:20] \"\u001b[37mGET /setuser/Alice HTTP/1.1\u001b[0m\" 200 -\n",
      "127.0.0.1 - - [09/Mar/2021 12:03:28] \"\u001b[33mGET /setuser/ HTTP/1.1\u001b[0m\" 404 -\n"
     ]
    }
   ],
   "source": [
    "from flask import Flask, session\n",
    "\n",
    "app = Flask(__name__)\n",
    "\n",
    "app.secret_key= \"YouWillNaverguess\"\n",
    "\n",
    "@app.route('/setuser/<user>')\n",
    "def setuser(user:str) -> str:\n",
    "    session['user'] = user\n",
    "    return 'user value set to: ' + session['user']\n",
    "\n",
    "@app.route('/getuser')\n",
    "def getuser() -> str:\n",
    "    return 'user value is currently set to : ' + session['user']\n",
    "\n",
    "if __name__ == '__main__':\n",
    "    app.run()"
   ]
  },
  {
   "cell_type": "code",
   "execution_count": 4,
   "metadata": {},
   "outputs": [
    {
     "name": "stdout",
     "output_type": "stream",
     "text": [
      " * Serving Flask app \"__main__\" (lazy loading)\n",
      " * Environment: production\n",
      "   WARNING: This is a development server. Do not use it in a production deployment.\n",
      "   Use a production WSGI server instead.\n",
      " * Debug mode: on\n"
     ]
    },
    {
     "name": "stderr",
     "output_type": "stream",
     "text": [
      " * Restarting with windowsapi reloader\n"
     ]
    },
    {
     "ename": "SystemExit",
     "evalue": "1",
     "output_type": "error",
     "traceback": [
      "An exception has occurred, use %tb to see the full traceback.\n",
      "\u001b[1;31mSystemExit\u001b[0m\u001b[1;31m:\u001b[0m 1\n"
     ]
    }
   ],
   "source": [
    "from flask import Flask\n",
    "app = Flask(__name__)\n",
    "\n",
    "@app.route('/')\n",
    "def hello() -> str:\n",
    "    return 'Hello from the simple webapp.'\n",
    "\n",
    "@app.route('/page1')\n",
    "def page1() -> str:\n",
    "    return 'This is page1.'\n",
    "\n",
    "@app.route('/page2')\n",
    "def page2() -> str:\n",
    "    return 'This is page2.'\n",
    "\n",
    "@app.route('/page3')\n",
    "def page3() -> str:\n",
    "    return 'This is page3.'\n",
    "\n",
    "if __name__ == '__main__':\n",
    "    app.run()\n",
    "\n"
   ]
  },
  {
   "cell_type": "code",
   "execution_count": null,
   "metadata": {},
   "outputs": [
    {
     "name": "stdout",
     "output_type": "stream",
     "text": [
      " * Serving Flask app \"__main__\" (lazy loading)\n",
      " * Environment: production\n",
      "   WARNING: This is a development server. Do not use it in a production deployment.\n",
      "   Use a production WSGI server instead.\n",
      " * Debug mode: off\n"
     ]
    },
    {
     "name": "stderr",
     "output_type": "stream",
     "text": [
      " * Running on http://127.0.0.1:5000/ (Press CTRL+C to quit)\n",
      "127.0.0.1 - - [09/Mar/2021 13:02:42] \"\u001b[37mGET / HTTP/1.1\u001b[0m\" 200 -\n",
      "127.0.0.1 - - [09/Mar/2021 13:02:58] \"\u001b[33mGET /login HTTP/1.1\u001b[0m\" 404 -\n",
      "127.0.0.1 - - [09/Mar/2021 13:03:10] \"\u001b[37mGET /status HTTP/1.1\u001b[0m\" 200 -\n",
      "127.0.0.1 - - [09/Mar/2021 13:03:39] \"\u001b[37mGET / HTTP/1.1\u001b[0m\" 200 -\n",
      "127.0.0.1 - - [09/Mar/2021 13:03:39] \"\u001b[33mGET /favicon.ico HTTP/1.1\u001b[0m\" 404 -\n",
      "127.0.0.1 - - [09/Mar/2021 13:03:47] \"\u001b[37mGET /status HTTP/1.1\u001b[0m\" 200 -\n",
      "127.0.0.1 - - [09/Mar/2021 13:03:56] \"\u001b[37mGET /logout HTTP/1.1\u001b[0m\" 200 -\n",
      "127.0.0.1 - - [09/Mar/2021 13:04:19] \"\u001b[33mGET /login HTTP/1.1\u001b[0m\" 404 -\n",
      "127.0.0.1 - - [09/Mar/2021 13:04:22] \"\u001b[37mGET / HTTP/1.1\u001b[0m\" 200 -\n",
      "127.0.0.1 - - [09/Mar/2021 13:04:28] \"\u001b[33mGET /login HTTP/1.1\u001b[0m\" 404 -\n",
      "127.0.0.1 - - [09/Mar/2021 13:05:35] \"\u001b[33mGET /login HTTP/1.1\u001b[0m\" 404 -\n",
      "127.0.0.1 - - [09/Mar/2021 13:05:38] \"\u001b[37mGET / HTTP/1.1\u001b[0m\" 200 -\n"
     ]
    }
   ],
   "source": [
    "from flask import Flask , session\n",
    "app = Flask(__name__)\n",
    "\n",
    "@app.route('/login')\n",
    "def do_login() ->str:\n",
    "    session['logged_in'] = True\n",
    "    return 'you are now Logged in.'\n",
    "\n",
    "@app.route('/logout')\n",
    "def do_logout() -> str:\n",
    "    session.pop('logged_in')\n",
    "    return 'You are now logged out.'\n",
    "\n",
    "@app.route('/status')\n",
    "def check_status() -> str:\n",
    "    if 'logged_in' in session:\n",
    "        return 'You are currently logged in.'\n",
    "        return 'You are NOT logged in.'\n",
    "\n",
    "\n",
    "@app.route('/')\n",
    "def hello() -> str:\n",
    "    return 'Hello from the simple webapp.'\n",
    "\n",
    "@app.route('/page1')\n",
    "def page1() -> str:\n",
    "    return 'This is page1.'\n",
    "\n",
    "@app.route('/page2')\n",
    "def page2() -> str:\n",
    "    return 'This is page2.'\n",
    "\n",
    "@app.route('/page3')\n",
    "def page3() -> str:\n",
    "    return 'This is page3.'\n",
    "\n",
    "app.secret_key = 'YouWillnaverGuessMySecretkey'\n",
    "\n",
    "if __name__ == '__main__':\n",
    "    app.run()\n"
   ]
  },
  {
   "cell_type": "code",
   "execution_count": null,
   "metadata": {},
   "outputs": [],
   "source": []
  }
 ],
 "metadata": {
  "kernelspec": {
   "display_name": "Python 3",
   "language": "python",
   "name": "python3"
  },
  "language_info": {
   "codemirror_mode": {
    "name": "ipython",
    "version": 3
   },
   "file_extension": ".py",
   "mimetype": "text/x-python",
   "name": "python",
   "nbconvert_exporter": "python",
   "pygments_lexer": "ipython3",
   "version": "3.8.5"
  }
 },
 "nbformat": 4,
 "nbformat_minor": 4
}
