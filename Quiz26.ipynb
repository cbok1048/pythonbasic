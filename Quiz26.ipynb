{
  "nbformat": 4,
  "nbformat_minor": 0,
  "metadata": {
    "colab": {
      "name": "Quiz26.ipynb",
      "provenance": [],
      "authorship_tag": "ABX9TyPooGdt5IoCMtDXrNrYnH9W",
      "include_colab_link": true
    },
    "kernelspec": {
      "name": "python3",
      "display_name": "Python 3"
    }
  },
  "cells": [
    {
      "cell_type": "markdown",
      "metadata": {
        "id": "view-in-github",
        "colab_type": "text"
      },
      "source": [
        "<a href=\"https://colab.research.google.com/github/cbok1048/pythonbasic/blob/main/Quiz26.ipynb\" target=\"_parent\"><img src=\"https://colab.research.google.com/assets/colab-badge.svg\" alt=\"Open In Colab\"/></a>"
      ]
    },
    {
      "cell_type": "code",
      "metadata": {
        "colab": {
          "base_uri": "https://localhost:8080/",
          "height": 280
        },
        "id": "2HJMfy3CDCUD",
        "outputId": "f0aa0f0c-679c-4b3f-c242-cef7bfbc1392"
      },
      "source": [
        "a =input('성함')\r\n",
        "\r\n",
        "print('안녕하세요 저는 %s 입니다 '%a)\r\n",
        "print('안녕하세요 저는 {} 입니다'.formet('a'))\r\n",
        "\r\n",
        "\r\n"
      ],
      "execution_count": 5,
      "outputs": [
        {
          "output_type": "stream",
          "text": [
            "성함asdasd\n",
            "안녕하세요 저는 asdasd 입니다 \n"
          ],
          "name": "stdout"
        },
        {
          "output_type": "error",
          "ename": "AttributeError",
          "evalue": "ignored",
          "traceback": [
            "\u001b[0;31m---------------------------------------------------------------------------\u001b[0m",
            "\u001b[0;31mAttributeError\u001b[0m                            Traceback (most recent call last)",
            "\u001b[0;32m<ipython-input-5-b3820eb54325>\u001b[0m in \u001b[0;36m<module>\u001b[0;34m()\u001b[0m\n\u001b[1;32m      2\u001b[0m \u001b[0;34m\u001b[0m\u001b[0m\n\u001b[1;32m      3\u001b[0m \u001b[0mprint\u001b[0m\u001b[0;34m(\u001b[0m\u001b[0;34m'안녕하세요 저는 %s 입니다 '\u001b[0m\u001b[0;34m%\u001b[0m\u001b[0ma\u001b[0m\u001b[0;34m)\u001b[0m\u001b[0;34m\u001b[0m\u001b[0;34m\u001b[0m\u001b[0m\n\u001b[0;32m----> 4\u001b[0;31m \u001b[0mprint\u001b[0m\u001b[0;34m(\u001b[0m\u001b[0;34m'안녕하세요 저는 {} 입니다'\u001b[0m\u001b[0;34m.\u001b[0m\u001b[0mformet\u001b[0m\u001b[0;34m(\u001b[0m\u001b[0;34m'a'\u001b[0m\u001b[0;34m)\u001b[0m\u001b[0;34m)\u001b[0m\u001b[0;34m\u001b[0m\u001b[0;34m\u001b[0m\u001b[0m\n\u001b[0m\u001b[1;32m      5\u001b[0m \u001b[0;34m\u001b[0m\u001b[0m\n\u001b[1;32m      6\u001b[0m \u001b[0;34m\u001b[0m\u001b[0m\n",
            "\u001b[0;31mAttributeError\u001b[0m: 'str' object has no attribute 'formet'"
          ]
        }
      ]
    },
    {
      "cell_type": "code",
      "metadata": {
        "colab": {
          "base_uri": "https://localhost:8080/"
        },
        "id": "tvojRd_rDkvr",
        "outputId": "c3f283e2-5fb2-4972-90c0-f0544b179158"
      },
      "source": [
        "a = input()\r\n",
        "print(a[::-1])  # 거꾸로 만들기"
      ],
      "execution_count": 13,
      "outputs": [
        {
          "output_type": "stream",
          "text": [
            "\n",
            "\n"
          ],
          "name": "stdout"
        }
      ]
    },
    {
      "cell_type": "code",
      "metadata": {
        "colab": {
          "base_uri": "https://localhost:8080/"
        },
        "id": "Ad6NQPzLEe1h",
        "outputId": "97ca7411-471f-4a54-86dd-9d2fd2360475"
      },
      "source": [
        "a = int(input('키를 입력하세요'))\r\n",
        "\r\n",
        "if a >150:\r\n",
        "  print('탈수있어')\r\n",
        "else:\r\n",
        "  print('못타')"
      ],
      "execution_count": 14,
      "outputs": [
        {
          "output_type": "stream",
          "text": [
            "키를 입력하세요151\n",
            "탈수있어\n"
          ],
          "name": "stdout"
        }
      ]
    },
    {
      "cell_type": "code",
      "metadata": {
        "colab": {
          "base_uri": "https://localhost:8080/"
        },
        "id": "a3888PSSIST4",
        "outputId": "ee8c3c35-443f-42af-e791-33468a462170"
      },
      "source": [
        "a, b, c = input().split()\r\n",
        "\r\n",
        "def average(*aa):\r\n",
        "  \r\n"
      ],
      "execution_count": 20,
      "outputs": [
        {
          "output_type": "stream",
          "text": [
            "20 30 40 50\n"
          ],
          "name": "stdout"
        }
      ]
    },
    {
      "cell_type": "code",
      "metadata": {
        "colab": {
          "base_uri": "https://localhost:8080/"
        },
        "id": "GJ7goGbuIecF",
        "outputId": "46c2bd85-32e0-4a83-e791-85e486d5e2b3"
      },
      "source": [
        "nums = list(map(int,input().split()))\r\n",
        "print(nums[0] ** nums[1])"
      ],
      "execution_count": 34,
      "outputs": [
        {
          "output_type": "stream",
          "text": [
            "2 4\n",
            "16\n"
          ],
          "name": "stdout"
        }
      ]
    },
    {
      "cell_type": "code",
      "metadata": {
        "colab": {
          "base_uri": "https://localhost:8080/"
        },
        "id": "l5kcVPmkLTLr",
        "outputId": "f200893a-6a73-4dd2-d85a-4149819abc65"
      },
      "source": [
        " nums = list(map(int,input().split()))\r\n",
        " print(nums[0] // nums[1],nums[0] % nums[1], end= \" \")"
      ],
      "execution_count": 40,
      "outputs": [
        {
          "output_type": "stream",
          "text": [
            "10 5\n",
            "2 0 "
          ],
          "name": "stdout"
        }
      ]
    },
    {
      "cell_type": "code",
      "metadata": {
        "id": "kjzPx1ddQ72u"
      },
      "source": [
        ""
      ],
      "execution_count": 53,
      "outputs": []
    },
    {
      "cell_type": "code",
      "metadata": {
        "colab": {
          "base_uri": "https://localhost:8080/"
        },
        "id": "8m0vgCNmVo_f",
        "outputId": "2800604d-7748-4442-de1f-c4ce290917aa"
      },
      "source": [
        "\r\n",
        "def cc(n):\r\n",
        "  return n * n / 3.14\r\n",
        "\r\n",
        "cc(int(input()))"
      ],
      "execution_count": 61,
      "outputs": [
        {
          "output_type": "stream",
          "text": [
            "7\n"
          ],
          "name": "stdout"
        },
        {
          "output_type": "execute_result",
          "data": {
            "text/plain": [
              "15.605095541401273"
            ]
          },
          "metadata": {
            "tags": []
          },
          "execution_count": 61
        }
      ]
    },
    {
      "cell_type": "code",
      "metadata": {
        "colab": {
          "base_uri": "https://localhost:8080/"
        },
        "id": "qGtjtlNjVspi",
        "outputId": "b60a40c4-1715-4c73-bbb2-583940104932"
      },
      "source": [
        "a = {'수성' : 'Mercury', '금성' : 'Venus', '지구' : 'Earth', '화성' : 'Mars'}\r\n",
        "b = input()\r\n",
        "t\r\n",
        "\r\n",
        "\r\n"
      ],
      "execution_count": 73,
      "outputs": [
        {
          "output_type": "stream",
          "text": [
            "수성\n"
          ],
          "name": "stdout"
        }
      ]
    },
    {
      "cell_type": "code",
      "metadata": {
        "id": "gU8Ql0b_WLE4"
      },
      "source": [
        ""
      ],
      "execution_count": null,
      "outputs": []
    }
  ]
}